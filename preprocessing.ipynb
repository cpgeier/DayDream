{
 "cells": [
  {
   "cell_type": "code",
   "execution_count": 2,
   "metadata": {
    "collapsed": false
   },
   "outputs": [
    {
     "data": {
      "text/plain": [
       "'Tools to help preprocessing 3D data for use in DEM\\n    obj -> nparray of shape: (1000,1000,3,3)\\n    # Definitions\\n        close_pooling layer: Matrix from which the distace between faces are calculated. \\n                Faces that are near the target face will be included in the pooling \\n        \\n    # Functions\\n        obj_to_ndarray(obj_file): Converts .obj to ndarry of faces\\n        \\n        facearray_pooling(facearray): Makes pooling layer based on face center for use with close_pool()\\n        \\n        close_pool(facearray_pooling, target face index, max_distance): Finds all faces with center \\n                                                                        close to center of target face\\n'"
      ]
     },
     "execution_count": 2,
     "metadata": {},
     "output_type": "execute_result"
    }
   ],
   "source": [
    "\"\"\"Tools to help preprocessing 3D data for use in DEM\n",
    "    obj -> nparray of shape: (1000,1000,3,3)\n",
    "    # Definitions\n",
    "        close_pooling layer: Matrix from which the distace between faces are calculated. \n",
    "                Faces that are near the target face will be included in the pooling \n",
    "        \n",
    "    # Functions\n",
    "        obj_to_ndarray(obj_file): Converts .obj to ndarry of faces\n",
    "        \n",
    "        facearray_pooling(facearray): Makes pooling layer based on face center for use with close_pool()\n",
    "        \n",
    "        close_pool(facearray_pooling, target face index, max_distance): Finds all faces with center \n",
    "                                                                        close to center of target face\n",
    "        \n",
    "        small_dataset(): Makes two small lists(data and labels) with 10 categories\n",
    "            # Current only opens 10 models as well\n",
    "        \n",
    "        full_dataset(): All 55 categories with all models\n",
    "\"\"\""
   ]
  },
  {
   "cell_type": "code",
   "execution_count": 1,
   "metadata": {
    "collapsed": false
   },
   "outputs": [
    {
     "name": "stderr",
     "output_type": "stream",
     "text": [
      "Using TensorFlow backend.\n"
     ]
    }
   ],
   "source": [
    "import os\n",
    "import numpy as np\n",
    "from keras import backend as tf\n",
    "import matplotlib.pyplot as plt"
   ]
  },
  {
   "cell_type": "code",
   "execution_count": 2,
   "metadata": {
    "collapsed": false
   },
   "outputs": [],
   "source": [
    "def facearray_pooling(facearray):\n",
    "    \"\"\" Takes ndarray of faces and makes pooling layer\n",
    "    # Arguments\n",
    "        facearray: ndarray of faces\n",
    "    \n",
    "    # Returns\n",
    "        (Number of faces, 3)\n",
    "    \"\"\"\n",
    "    face_center = []\n",
    "    for i in facearray:\n",
    "        x = (i[0][0] + i[1][0] + i[2][0])/3\n",
    "        y = (i[0][1] + i[1][1] + i[2][1])/3\n",
    "        z = (i[0][2] + i[1][2] + i[2][2])/3\n",
    "        face_center.append([x,y,z])\n",
    "    return np.asarray(face_center)"
   ]
  },
  {
   "cell_type": "code",
   "execution_count": 3,
   "metadata": {
    "collapsed": false
   },
   "outputs": [],
   "source": [
    "def close_pool(pool, targetface, max_distance):\n",
    "    \"\"\" Finds faces close to target\n",
    "    # Example Use\n",
    "        out = close_pool(pool, 0, .15)\n",
    "        print(out.shape) -> (1144, 3)\n",
    "    # Arguments\n",
    "        pool: face_center pool\n",
    "        \n",
    "        targetface: index of face for center of search sphere\n",
    "        \n",
    "        max_distance: radius of search sphere\n",
    "    # Returns\n",
    "        ndarray of faces\n",
    "    \"\"\"\n",
    "    target = pool[targetface]\n",
    "    faces_near = []\n",
    "    for i in range(0,len(pool)):\n",
    "        dist = np.linalg.norm(target-pool[i])\n",
    "        if dist < max_distance:\n",
    "            faces_near.append(i)\n",
    "    return faces_near"
   ]
  },
  {
   "cell_type": "code",
   "execution_count": 4,
   "metadata": {
    "collapsed": false
   },
   "outputs": [],
   "source": [
    "def obj_to_ndarray(obj):\n",
    "    \"\"\"Turns .obj format into ndarray of faces with associated points\n",
    "    # Arguments\n",
    "        obj: .obj text file object\n",
    "    \n",
    "    # Returns\n",
    "        ndarray with shape of tuple: (Number of faces, 3, 3)\n",
    "    \"\"\"\n",
    "    vertexes = []\n",
    "    faces = []\n",
    "    vertexes_face = []\n",
    "    sep = '/'\n",
    "    \n",
    "    for line in obj:\n",
    "        if 'v ' == line[0:2]:\n",
    "            vertexes.append(line.replace('\\n',''))\n",
    "        elif 'f ' == line[0:2]:\n",
    "            faces.append(line.replace('\\n',''))\n",
    "    for i in range(0,len(faces)):\n",
    "        face = faces[i]\n",
    "        edges = face.lstrip('f ').split(' ')\n",
    "        vertex_face = []\n",
    "        for edge in edges:\n",
    "            vertex_index = int(edge.split(sep,1)[0])\n",
    "            vertex_points = []\n",
    "            for point in vertexes[vertex_index-1].lstrip('v ').split(' '):\n",
    "                vertex_points.append(float(point)) \n",
    "            vertex_face.append(vertex_points)\n",
    "        vertexes_face.append(vertex_face)\n",
    "    return np.asarray(vertexes_face)\n",
    "\n",
    "#file = open('ShapeNetCore.v2/02691156/371a609f050b4ed3f6497dc58a9a6f8a/models/model_normalized.obj','r')\n",
    "#final = obj_to_ndarray(file)"
   ]
  },
  {
   "cell_type": "code",
   "execution_count": 5,
   "metadata": {
    "collapsed": false
   },
   "outputs": [],
   "source": [
    "def preprocess(input_obj_file):\n",
    "    \"\"\"Normalizes data\n",
    "    # Arguments\n",
    "        input_data: Array of face points\n",
    "        \n",
    "    # Returns\n",
    "        ndarray of normalized input_data \n",
    "    \"\"\"\n",
    "    all_faces_in_pool = []\n",
    "    all_faces = obj_to_ndarray(input_obj_file)\n",
    "    pool = facearray_pooling(all_faces)\n",
    "    close_indexes = close_pool(pool, 0, 1)\n",
    "    for i in close_indexes:\n",
    "        all_faces_in_pool.append(all_faces[i])\n",
    "    faces_asarry = np.asarray(all_faces_in_pool)\n",
    "    final = np.resize(faces_asarry, (1000,1000,3,3))\n",
    "    return final"
   ]
  },
  {
   "cell_type": "code",
   "execution_count": 16,
   "metadata": {
    "collapsed": false
   },
   "outputs": [
    {
     "name": "stdout",
     "output_type": "stream",
     "text": [
      "Label: 0\n",
      "     Model: 101d0e7dbd07d8247dfd6bf7196ba84d\n",
      "Label: 1\n",
      "     Model: 10155655850468db78d106ce0a280f87\n",
      "Label: 2\n",
      "     Model: 10839d0dc35c94fcf4fb4dee5181bee\n",
      "Label: 3\n",
      "     Model: 10a885f5971d9d4ce858db1dc3499392\n",
      "Label: 4\n",
      "     Model: 133d74f10a0401317773da01b1ba21ef\n",
      "Label: 5\n",
      "     Model: 7a9c46a3a33c7f5b15c4530387bfd\n",
      "Label: 6\n",
      "     Model: 10c15151ebe3d237240ea0cdca7b391a\n",
      "Label: 7\n",
      "     Model: 1042d723dfc31ce5ec56aed2da084563\n",
      "Label: 8\n",
      "     Model: 1025dd84537d737febed407fccfaf6d8\n",
      "Label: 9\n",
      "     Model: 104874322c6f7a75aba93753eed86c0a\n",
      "Label: 10\n",
      "     Model: 8cd9b10f611ac28e866a1445c8fba9da\n"
     ]
    }
   ],
   "source": [
    "def small_dataset():\n",
    "    \"\"\"Makes small dataset of 10 categories\n",
    "    Usage:\n",
    "        data, labels = full_dataset()\n",
    "    \"\"\"\n",
    "    # TODO: Convert to use all data\n",
    "    \n",
    "    core = os.listdir('ShapeNetCore.v2')\n",
    "    data = []\n",
    "    labels = []\n",
    "    count = 0    \n",
    "    for i in range(0,len(core)):\n",
    "        label_number = core[i] \n",
    "        print('Label: ' + str(i))\n",
    "        for b in os.listdir('ShapeNetCore.v2/' + label_number):\n",
    "            print('     Model: ' + b)\n",
    "            path = 'ShapeNetCore.v2/' + label_number + '/' + b + '/models/model_normalized.obj'\n",
    "            file = open(path,'r')\n",
    "            single = preprocess(file)\n",
    "            file.close()\n",
    "            one_hot_small = [0, 0, 0, 0, 0, 0, 0, 0, 0, 0]\n",
    "            one_hot_small[i]= 1\n",
    "            data.append(single)\n",
    "            labels.append(one_hot_small)\n",
    "            break\n",
    "        count += 1\n",
    "        if count > 9:\n",
    "            break\n",
    "    return data, labels\n",
    "data, labels = small_dataset()"
   ]
  },
  {
   "cell_type": "code",
   "execution_count": null,
   "metadata": {
    "collapsed": true
   },
   "outputs": [],
   "source": [
    "def full_dataset():\n",
    "    \"\"\"Makes complete dataset of 55 categories\n",
    "    Usage:\n",
    "        data, labels = full_dataset()\n",
    "    \"\"\"\n",
    "    core = os.listdir('ShapeNetCore.v2')\n",
    "    data = []\n",
    "    labels = []\n",
    "    count = 0    \n",
    "    for i in range(0,len(core)):\n",
    "        label_number = core[i] \n",
    "        print('Label: ' + str(i))\n",
    "        for b in os.listdir('ShapeNetCore.v2/' + label_number):\n",
    "            print('     Model: ' + b)\n",
    "            path = 'ShapeNetCore.v2/' + label_number + '/' + b + '/models/model_normalized.obj'\n",
    "            file = open(path,'r')\n",
    "            single = preprocess(file)\n",
    "            file.close()\n",
    "            one_hot_full = [0, 0, 0, 0, 0, 0, 0, 0, 0, 0, 0, 0, 0, 0, 0, 0, 0, 0, 0, 0, 0, 0, 0, 0, 0, 0, 0, 0, 0, 0, 0, 0, 0, 0, 0, 0, 0, 0, 0, 0, 0, 0, 0, 0, 0, 0, 0, 0, 0, 0, 0, 0, 0, 0, 0]\n",
    "            one_hot_full[i]= 1\n",
    "            data.append(single)\n",
    "            labels.append(one_hot_full)\n",
    "            break\n",
    "        count += 1\n",
    "        if count > 9:\n",
    "            break\n",
    "    return data, labels"
   ]
  }
 ],
 "metadata": {
  "kernelspec": {
   "display_name": "Python 3",
   "language": "python",
   "name": "python3"
  },
  "language_info": {
   "codemirror_mode": {
    "name": "ipython",
    "version": 3
   },
   "file_extension": ".py",
   "mimetype": "text/x-python",
   "name": "python",
   "nbconvert_exporter": "python",
   "pygments_lexer": "ipython3",
   "version": "3.6.0"
  }
 },
 "nbformat": 4,
 "nbformat_minor": 2
}
